{
  "nbformat": 4,
  "nbformat_minor": 0,
  "metadata": {
    "colab": {
      "name": "Assignment_Stats_1.ipynb",
      "provenance": [],
      "collapsed_sections": [],
      "authorship_tag": "ABX9TyOT8RKceXTkWRgTqCb+ONzB",
      "include_colab_link": true
    },
    "kernelspec": {
      "name": "python3",
      "display_name": "Python 3"
    }
  },
  "cells": [
    {
      "cell_type": "markdown",
      "metadata": {
        "id": "view-in-github",
        "colab_type": "text"
      },
      "source": [
        "<a href=\"https://colab.research.google.com/github/dasigiraghu96/Ineuron-Assignments/blob/master/Assignment_Stats_1.ipynb\" target=\"_parent\"><img src=\"https://colab.research.google.com/assets/colab-badge.svg\" alt=\"Open In Colab\"/></a>"
      ]
    },
    {
      "cell_type": "markdown",
      "metadata": {
        "id": "mVT8vkOLxcP5",
        "colab_type": "text"
      },
      "source": [
        "**1.The marks awarded for an assignment set for a Year 8 class of 20 students were as\n",
        "follows:Find mean,median,mode,standard deviation\n",
        "6 7 5 7 7 8 7 6 9 7 4 10 6 8 8 9 5 6 4 8**\n",
        "\n",
        "**"
      ]
    },
    {
      "cell_type": "code",
      "metadata": {
        "id": "min5NNmnxVRG",
        "colab_type": "code",
        "outputId": "654050e2-93b6-463b-9a1b-5ee2150340f6",
        "colab": {
          "base_uri": "https://localhost:8080/",
          "height": 87
        }
      },
      "source": [
        "import numpy as np\n",
        "from scipy import stats \n",
        "a=np.asarray([6,7,5,7,7,8,7,6,9,7,4,10,6,8,8,9,5,6,4,8])\n",
        "def statistics(a):\n",
        "  print('Mean = {}'.format(np.mean(a)))\n",
        "  print('Median = {}'.format(np.median(a)))\n",
        "  print('Mode = {}'.format(stats.mode(a)[0]))\n",
        "  print('Standard Deviation = {}'.format(np.round(np.std(a),3)))\n",
        "statistics(a)"
      ],
      "execution_count": 179,
      "outputs": [
        {
          "output_type": "stream",
          "text": [
            "Mean = 6.85\n",
            "Median = 7.0\n",
            "Mode = [7]\n",
            "Standard Deviation = 1.59\n"
          ],
          "name": "stdout"
        }
      ]
    },
    {
      "cell_type": "markdown",
      "metadata": {
        "id": "i9N_wdg804_r",
        "colab_type": "text"
      },
      "source": [
        "**2.The number of calls from motorists per day for roadside service was recorded for a\n",
        "particular month:\n",
        "28, 122, 217, 130, 120, 86, 80, 90, 140, 120, 70, 40, 145, 113, 90, 68, 174, 194, 170,\n",
        "100, 75, 104, 97, 75,\n",
        "123, 100, 75, 104, 97, 75, 123, 100, 89, 120, 109**"
      ]
    },
    {
      "cell_type": "code",
      "metadata": {
        "id": "y0gQL9Zo1D19",
        "colab_type": "code",
        "outputId": "89f4f6ed-15eb-4724-e916-9abafc70c5b5",
        "colab": {
          "base_uri": "https://localhost:8080/",
          "height": 87
        }
      },
      "source": [
        "b=np.asarray([28, 122, 217, 130, 120, 86, 80, 90, 140, 120, 70, 40, 145, 113, 90, 68, 174, 194, 170,100, 75, 104, 97, 75,123, 100, 75, 104, 97, 75, 123, 100, 89, 120, 109])\n",
        "statistics(b)"
      ],
      "execution_count": 180,
      "outputs": [
        {
          "output_type": "stream",
          "text": [
            "Mean = 107.51428571428572\n",
            "Median = 100.0\n",
            "Mode = [75]\n",
            "Standard Deviation = 38.773\n"
          ],
          "name": "stdout"
        }
      ]
    },
    {
      "cell_type": "markdown",
      "metadata": {
        "id": "fBJ9O88_9FoW",
        "colab_type": "text"
      },
      "source": [
        ""
      ]
    },
    {
      "cell_type": "markdown",
      "metadata": {
        "id": "Os-o20rl1VA0",
        "colab_type": "text"
      },
      "source": [
        "**3.The number of times I go to the gym in weekdays, are given below along with its\n",
        "associated probability:\n",
        "x = 0, 1, 2, 3, 4, 5\n",
        "f(x) = 0.09, 0.15, 0.40, 0.25, 0.10, 0.01\n",
        "Calculate the mean no. of workouts in a week. Also evaluate the variance involved in\n",
        "it.**"
      ]
    },
    {
      "cell_type": "code",
      "metadata": {
        "id": "5UpdKkIR1KrX",
        "colab_type": "code",
        "outputId": "8d2db965-dfef-4f31-f611-3cbdc9f09c3c",
        "colab": {
          "base_uri": "https://localhost:8080/",
          "height": 52
        }
      },
      "source": [
        "import numpy as np\n",
        "x=np.asarray([0,1,2,3,4,5])\n",
        "f_x=np.asarray([0.09,0.15,0.40,0.25,0.10,0.01])\n",
        "#Considering he goes to gym 5 days/week\n",
        "x.reshape((1,-1))\n",
        "f_x.reshape((-1,1))\n",
        "mean=np.dot(x,f_x)\n",
        "v_x=(x-mean)**2\n",
        "variance=np.dot(v_x.reshape(1,-1),f_x)\n",
        "print('Mean of workouts= {}'.format((mean)))\n",
        "print('Variance of workouts= {}'.format(variance))\n"
      ],
      "execution_count": 181,
      "outputs": [
        {
          "output_type": "stream",
          "text": [
            "Mean of workouts= 2.15\n",
            "Variance of workouts= [1.2275]\n"
          ],
          "name": "stdout"
        }
      ]
    },
    {
      "cell_type": "markdown",
      "metadata": {
        "id": "YKkKbPzzr8uB",
        "colab_type": "text"
      },
      "source": [
        "**4.Let the continuous random variable D denote the diameter of the hole drilled in an\n",
        "aluminum sheet. The target diameter to be achieved is 12.5mm. Random\n",
        "disturbances in the process often result in inaccuracy.\n",
        "Historical data shows that the distribution of D can be modelled by the PDF (𝑑) =\n",
        "20𝑒−20(𝑑−12.5), 𝑑 ≥ 12.5. If a part with diameter > 12.6 mm needs to be scrapped,\n",
        "what is the proportion of those parts? What is the CDF when the diameter is of 11\n",
        "mm? What is your conclusion regarding the proportion of scraps?**"
      ]
    },
    {
      "cell_type": "code",
      "metadata": {
        "id": "haI35ga2sFTe",
        "colab_type": "code",
        "colab": {
          "base_uri": "https://localhost:8080/",
          "height": 105
        },
        "outputId": "f08f5023-18fb-4535-c6f5-d5682676c0b1"
      },
      "source": [
        "import numpy as np\n",
        "from scipy import integrate\n",
        "\n",
        "PDF=lambda d:20*(np.exp((-20*(d-12.5))))\n",
        "a=12.6\n",
        "P_a=integrate.quad(PDF,12.6,np.inf) \n",
        "b=11\n",
        "CDF=integrate.quad(PDF,-np.inf,b)\n",
        "print('Proportion of parts need to be scrapped if d>12.6 is %.3f'%P_a[0])\n",
        "print('CDF when diamter is 11mm is %.3f'%CDF[0])\n",
        "print('Proportion of scraps when diameter is greater than 12.5mm is %.3f'%integrate.quad(PDF,12.5,np.inf)[0])\n",
        "#it can be concluded that the function is only valid when d>=12.5. When d<12.5, the part can be reworked to 12.5 so no scrap in this case.PDF is not defined for d=11"
      ],
      "execution_count": 182,
      "outputs": [
        {
          "output_type": "stream",
          "text": [
            "Proportion of parts need to be scrapped if d>12.6 is 0.135\n",
            "CDF when diamter is 11mm is inf\n",
            "Proportion of scraps when diameter is greater than 12.5mm is 1.000\n"
          ],
          "name": "stdout"
        },
        {
          "output_type": "stream",
          "text": [
            "/usr/local/lib/python3.6/dist-packages/ipykernel_launcher.py:4: RuntimeWarning: overflow encountered in exp\n",
            "  after removing the cwd from sys.path.\n"
          ],
          "name": "stderr"
        }
      ]
    },
    {
      "cell_type": "markdown",
      "metadata": {
        "id": "tiNiXa67huC8",
        "colab_type": "text"
      },
      "source": [
        "**5.A company manufactures LED bulbs with a faulty rate of 30%. If I randomly select 6\n",
        "chosen LEDs, what is the probability of having 2 faulty LEDs in my sample?\n",
        "Calculate the average value of this process. Also evaluate the standard deviation\n",
        "associated with it.**"
      ]
    },
    {
      "cell_type": "code",
      "metadata": {
        "id": "Kcta6QQVjZ3d",
        "colab_type": "code",
        "outputId": "f2ec63ed-4edb-4123-cdde-269633b177f3",
        "colab": {
          "base_uri": "https://localhost:8080/",
          "height": 405
        }
      },
      "source": [
        "#bulb will glow or fail, so this is binomial problem\n",
        "import scipy.special\n",
        "import pandas as pd\n",
        "import matplotlib.pyplot as plt\n",
        "import seaborn as sns\n",
        "#required probabiity=faulty probability=p\n",
        "p,q=0.3,0.7\n",
        "df=pd.DataFrame({'x':[int(i) for i in range(7)],\n",
        "                 'B_x':[scipy.special.comb(6,i)*(p**i)*(q**(6-i)) for i in range(7)]})\n",
        "print(df.iloc[2])\n",
        "plt.figure(figsize=(15,5))\n",
        "sns.barplot('x','B_x',data=df)\n",
        "plt.xlabel('Number of faulty LEDs')\n",
        "plt.ylabel('Binomial probability of fault')"
      ],
      "execution_count": 183,
      "outputs": [
        {
          "output_type": "stream",
          "text": [
            "x      2.000000\n",
            "B_x    0.324135\n",
            "Name: 2, dtype: float64\n"
          ],
          "name": "stdout"
        },
        {
          "output_type": "execute_result",
          "data": {
            "text/plain": [
              "Text(0, 0.5, 'Binomial probability of fault')"
            ]
          },
          "metadata": {
            "tags": []
          },
          "execution_count": 183
        },
        {
          "output_type": "display_data",
          "data": {
            "image/png": "[encoded data removed]",
            "text/plain": [
              "<Figure size 1080x360 with 1 Axes>"
            ]
          },
          "metadata": {
            "tags": [],
            "needs_background": "light"
          }
        }
      ]
    },
    {
      "cell_type": "code",
      "metadata": {
        "id": "NCap8fZzyAAS",
        "colab_type": "code",
        "outputId": "d3fd717c-0e37-46b5-c250-44c2fadc2530",
        "colab": {
          "base_uri": "https://localhost:8080/",
          "height": 52
        }
      },
      "source": [
        "#mean is equal to expected value \n",
        "df['Expected value']=df['x']*df['B_x']\n",
        "mean=np.round(df['Expected value'].sum())\n",
        "print('mean = {}'.format(mean))\n",
        "df['variance']=df['B_x']*(df['x']-mean)**2\n",
        "std=np.sqrt(df['variance'].sum())\n",
        "print('Standard Deviation = ',np.round(std))"
      ],
      "execution_count": 184,
      "outputs": [
        {
          "output_type": "stream",
          "text": [
            "mean = 2.0\n",
            "Standard Deviation =  1.0\n"
          ],
          "name": "stdout"
        }
      ]
    },
    {
      "cell_type": "markdown",
      "metadata": {
        "id": "h0NZWoRkwqQB",
        "colab_type": "text"
      },
      "source": [
        "**6.Gaurav and Barakha are both preparing for entrance exams. Gaurav attempts to\n",
        "solve 8 questions per day with a correction rate of 75%, while Barakha averages\n",
        "around 12 questions per day with a correction rate of 45%. What is the probability\n",
        "that each of them will solve 5 questions correctly? What happens in cases of 4 and 6\n",
        "correct solutions? What do you infer from it? What are the two main governing\n",
        "factors affecting their ability to solve questions correctly? Give a pictorial\n",
        "representation of the same to validate your answer.**"
      ]
    },
    {
      "cell_type": "code",
      "metadata": {
        "id": "92qMWGkH1D5z",
        "colab_type": "code",
        "outputId": "22a17749-6ede-4993-acd7-4e9fa2734a3e",
        "colab": {
          "base_uri": "https://localhost:8080/",
          "height": 52
        }
      },
      "source": [
        "#Gaurav- avg=,p1=0.75\n",
        "#Barakha- avg=5,p2=0.45\n",
        "#here both the students are independent from each other, correction rate of one doesnot effect another one \n",
        "#G(5)*B(5)\n",
        "from scipy.stats import binom\n",
        "import numpy as np\n",
        "#to get 10 questions from both by G=5,B=5\n",
        "print('Probability of each of them solving 5 questions correctly is %.3f'%(binom.pmf(5,8,0.75)*binom.pmf(5,12,0.45)))\n",
        "print('Probability of each of them solving 4,6 correctly is %.3f'%(binom.pmf(4,8,0.75)*binom.pmf(6,12,0.45)))\n",
        "#their correction rates effect their combined probability\n",
        "#following graphs show their correction rates invidually and combined\n",
        "\n",
        "def plotbinom(n,p,):\n",
        "  fig,ax=plt.subplots(1,1)\n",
        "  x = np.arange(binom.ppf(0.01, n, p),binom.ppf(0.99, n, p))\n",
        "  ax.plot(x, binom.pmf(x, n, p), 'bo', ms=8, label='binom pmf')\n",
        "  ax.vlines(x, 0, binom.pmf(x, n, p), colors='b', lw=5, alpha=0.5)"
      ],
      "execution_count": 200,
      "outputs": [
        {
          "output_type": "stream",
          "text": [
            "Probability of each of them solving 5 questions correctly is 0.046\n",
            "Probability of each of them solving 4,6 correctly is 0.018\n"
          ],
          "name": "stdout"
        }
      ]
    },
    {
      "cell_type": "code",
      "metadata": {
        "id": "kqG56NhnOuA7",
        "colab_type": "code",
        "colab": {
          "base_uri": "https://localhost:8080/",
          "height": 265
        },
        "outputId": "e09ec8d1-b46b-45c2-af97-3e75d830d4cd"
      },
      "source": [
        "#Gaurav\n",
        "plotbinom(8,0.75)"
      ],
      "execution_count": 201,
      "outputs": [
        {
          "output_type": "display_data",
          "data": {
            "image/png": "[encoded data removed]",
            "text/plain": [
              "<Figure size 432x288 with 1 Axes>"
            ]
          },
          "metadata": {
            "tags": [],
            "needs_background": "light"
          }
        }
      ]
    },
    {
      "cell_type": "code",
      "metadata": {
        "id": "s0BDG07ZO7au",
        "colab_type": "code",
        "colab": {
          "base_uri": "https://localhost:8080/",
          "height": 265
        },
        "outputId": "06099fa7-4500-409d-f00c-6a0220336d16"
      },
      "source": [
        "#Barakha\n",
        "plotbinom(12,0.45)"
      ],
      "execution_count": 202,
      "outputs": [
        {
          "output_type": "display_data",
          "data": {
            "image/png": "[encoded data removed]",
            "text/plain": [
              "<Figure size 432x288 with 1 Axes>"
            ]
          },
          "metadata": {
            "tags": [],
            "needs_background": "light"
          }
        }
      ]
    },
    {
      "cell_type": "code",
      "metadata": {
        "id": "wPZDLhpLOp9f",
        "colab_type": "code",
        "colab": {
          "base_uri": "https://localhost:8080/",
          "height": 282
        },
        "outputId": "58145843-86f4-4a3c-c4e9-fc4687db8cf3"
      },
      "source": [
        "fig,ax=plt.subplots(1,1)\n",
        "x = np.arange(1,11)\n",
        "ax.plot(x, binom.pmf(x,8,0.75)*binom.pmf(x,12,0.45), 'bo', ms=8, label='binom pmf')\n",
        "ax.vlines(x, 0, binom.pmf(x,8,0.75)*binom.pmf(x,12,0.45), colors='b', lw=5, alpha=0.5)\n",
        "#maximum combiend probability observed at 6 questions"
      ],
      "execution_count": 208,
      "outputs": [
        {
          "output_type": "execute_result",
          "data": {
            "text/plain": [
              "<matplotlib.collections.LineCollection at 0x7fb3df084ba8>"
            ]
          },
          "metadata": {
            "tags": []
          },
          "execution_count": 208
        },
        {
          "output_type": "display_data",
          "data": {
            "image/png": "[encoded data removed]",
            "text/plain": [
              "<Figure size 432x288 with 1 Axes>"
            ]
          },
          "metadata": {
            "tags": [],
            "needs_background": "light"
          }
        }
      ]
    },
    {
      "cell_type": "code",
      "metadata": {
        "id": "bSV9jqKLMQ-2",
        "colab_type": "code",
        "colab": {
          "base_uri": "https://localhost:8080/",
          "height": 34
        },
        "outputId": "3fa5ee4a-0be5-42c2-a6b7-931c6b84e2d9"
      },
      "source": [
        "from scipy.stats import binom\n",
        "binom.pmf(5,8,0.75)*binom.pmf(5,12,0.45)"
      ],
      "execution_count": 195,
      "outputs": [
        {
          "output_type": "execute_result",
          "data": {
            "text/plain": [
              "0.04619989057299217"
            ]
          },
          "metadata": {
            "tags": []
          },
          "execution_count": 195
        }
      ]
    },
    {
      "cell_type": "markdown",
      "metadata": {
        "id": "mUfhlCJFJ0Di",
        "colab_type": "text"
      },
      "source": [
        "**7.Customers arrive at a rate of 72 per hour to my shop. What is the probability of 𝑘\n",
        "customers arriving in 4 minutes? a) 5 customers, b) not more than 3 customers, c)\n",
        "more than 3 customers. Give a pictorial representation of the same to validate your\n",
        "answer.**"
      ]
    },
    {
      "cell_type": "code",
      "metadata": {
        "id": "ov51t6jhJoGK",
        "colab_type": "code",
        "colab": {
          "base_uri": "https://localhost:8080/",
          "height": 405
        },
        "outputId": "712b322e-4cdf-40f4-ce0e-90a664d16183"
      },
      "source": [
        "from scipy.stats import poisson\n",
        "#We need to calculate average number of customers arriving per 4 minutes\n",
        "#72/60 customers come per minute\n",
        "mu=4*(72/60) # customers come per 4 minutes\n",
        "print('Probability of 5 customers arriving in 4 minutes is: ',poisson.pmf(k=5,mu=mu))\n",
        "print('Probaility of not more than 3 customers arriving in 4 minutes is',poisson.cdf(k=3,mu=mu))\n",
        "print('Probability of more than 3 customers arriving in 4 minutes is ',1-poisson.cdf(k=3,mu=mu))\n",
        "import matplotlib.pyplot as plt\n",
        "x=list(range(0,10))\n",
        "#plt.plot(k,poisson.pmf(k,mu=mu))\n",
        "fig,ax = plt.subplots(1,1,figsize=(15,5))\n",
        "ax.plot(x, poisson.pmf(x,mu), 'bo', ms=8, label='poisson pmf')\n",
        "ax.vlines(x, 0, poisson.pmf(x, mu), colors='b', lw=5, alpha=0.5)\n",
        "plt.xlabel('Number of customers')\n",
        "plt.ylabel('Probability')"
      ],
      "execution_count": 186,
      "outputs": [
        {
          "output_type": "stream",
          "text": [
            "Probability of 5 customers arriving in 4 minutes is:  0.17474768364388296\n",
            "Probaility of not more than 3 customers arriving in 4 minutes is 0.2942299164965642\n",
            "Probability of more than 3 customers arriving in 4 minutes is  0.7057700835034357\n"
          ],
          "name": "stdout"
        },
        {
          "output_type": "execute_result",
          "data": {
            "text/plain": [
              "Text(0, 0.5, 'Probability')"
            ]
          },
          "metadata": {
            "tags": []
          },
          "execution_count": 186
        },
        {
          "output_type": "display_data",
          "data": {
            "image/png": "[encoded data removed]",
            "text/plain": [
              "<Figure size 1080x360 with 1 Axes>"
            ]
          },
          "metadata": {
            "tags": [],
            "needs_background": "light"
          }
        }
      ]
    },
    {
      "cell_type": "markdown",
      "metadata": {
        "id": "NkiC6YmJLh4a",
        "colab_type": "text"
      },
      "source": [
        "**8.I work as a data analyst in Aeon Learning Pvt. Ltd. After analyzing data, I make\n",
        "reports, where I have the efficiency of entering 77 words per minute with 6 errors per\n",
        "hour. What is the probability that I will commit 2 errors in a 455-word financial report?\n",
        "What happens when the no. of words increases/decreases (in case of 1000 words,\n",
        "255 words)?\n",
        "How is the 𝜆 affected?\n",
        "How does it influence the PMF?\n",
        "Give a pictorial representation of the same to validate your answer.**"
      ]
    },
    {
      "cell_type": "code",
      "metadata": {
        "id": "FGVLQ8qcLciq",
        "colab_type": "code",
        "colab": {
          "base_uri": "https://localhost:8080/",
          "height": 390
        },
        "outputId": "9b767c3e-8f7c-4008-8fb8-985b66859af8"
      },
      "source": [
        "from scipy.stats import poisson\n",
        "#Rate of entering=77 per minute\n",
        "#error rate= 6/hour=0.1 per minute\n",
        "#No of errors per word=0.1/77\n",
        "unit_mu=0.1/77\n",
        "def mu(n):\n",
        "  return n*unit_mu\n",
        "print('Probability of commiting 2 errors in 455 word financial report is:',poisson.pmf(2,mu=mu(455)))\n",
        "print('Probability of commiting 2 errors in 1000 word financial report is:',poisson.pmf(2,mu=mu(1000)))\n",
        "print('Probability of commiting 2 errors in 255 word financial report is:',poisson.pmf(2,mu=mu(255)))\n",
        "x=range(100,1000,50)\n",
        "mu=[i*unit_mu for i in x]\n",
        "fig,ax = plt.subplots(1,1,figsize=(15,5))\n",
        "ax.plot(x,poisson.pmf(2,mu), 'bo', ms=8, label='poisson pmf')\n",
        "ax.vlines(x,0, poisson.pmf(2,mu), colors='b', lw=5, alpha=0.5)\n",
        "#As the number of words increase probability of getting errors increases"
      ],
      "execution_count": 187,
      "outputs": [
        {
          "output_type": "stream",
          "text": [
            "Probability of commiting 2 errors in 455 word financial report is: 0.09669027375144444\n",
            "Probability of commiting 2 errors in 1000 word financial report is: 0.23012815007300153\n",
            "Probability of commiting 2 errors in 255 word financial report is: 0.039377135392854104\n"
          ],
          "name": "stdout"
        },
        {
          "output_type": "execute_result",
          "data": {
            "text/plain": [
              "<matplotlib.collections.LineCollection at 0x7fb3e0ee6b70>"
            ]
          },
          "metadata": {
            "tags": []
          },
          "execution_count": 187
        },
        {
          "output_type": "display_data",
          "data": {
            "image/png": "[encoded data removed]",
            "text/plain": [
              "<Figure size 1080x360 with 1 Axes>"
            ]
          },
          "metadata": {
            "tags": [],
            "needs_background": "light"
          }
        }
      ]
    },
    {
      "cell_type": "code",
      "metadata": {
        "id": "GEtw0oTvSs81",
        "colab_type": "code",
        "colab": {
          "base_uri": "https://localhost:8080/",
          "height": 338
        },
        "outputId": "ef1615d6-94ab-45d5-b940-7d29e13206ad"
      },
      "source": [
        "fig,ax = plt.subplots(1,1,figsize=(15,5))\n",
        "ax.plot(x,mu, 'bo', ms=8, label='poisson pmf')\n",
        "ax.vlines(x,0,mu, colors='b', lw=5, alpha=0.5)\n",
        "#Value of mu keeps on increasing with number of words"
      ],
      "execution_count": 188,
      "outputs": [
        {
          "output_type": "execute_result",
          "data": {
            "text/plain": [
              "<matplotlib.collections.LineCollection at 0x7fb3e0ef17b8>"
            ]
          },
          "metadata": {
            "tags": []
          },
          "execution_count": 188
        },
        {
          "output_type": "display_data",
          "data": {
            "image/png": "[encoded data removed]",
            "text/plain": [
              "<Figure size 1080x360 with 1 Axes>"
            ]
          },
          "metadata": {
            "tags": [],
            "needs_background": "light"
          }
        }
      ]
    },
    {
      "cell_type": "markdown",
      "metadata": {
        "id": "qXJ8DNj00AD0",
        "colab_type": "text"
      },
      "source": [
        "**9.Same as problem 4**"
      ]
    },
    {
      "cell_type": "markdown",
      "metadata": {
        "id": "nglRwMNP0Pue",
        "colab_type": "text"
      },
      "source": [
        "**10.Please compute the following:\n",
        "a) P(Z > 1.26), . P(Z < −0.86), P(Z > −1.37), P(−1.25 < Z < 0.37), . P(Z ≤ −4.6)\n",
        "b) Find the value 𝑧 such that 𝑃(𝑍 > 𝑧) = 0.05\n",
        "c) Find the value of 𝑧 such that 𝑃(−𝑧 < 𝑍 < 𝑧) = 0.99**\n"
      ]
    },
    {
      "cell_type": "code",
      "metadata": {
        "id": "NtJXA25_TXvp",
        "colab_type": "code",
        "colab": {
          "base_uri": "https://localhost:8080/",
          "height": 105
        },
        "outputId": "fdc41455-9704-45b2-c8d9-b67c8d57408f"
      },
      "source": [
        "from scipy.stats import norm\n",
        "def P(z,b=-np.inf) :\n",
        "  #gives P(Z<=x)\n",
        "  return integrate.quad(norm.pdf,b,z)[0]\n",
        "print('P(Z>1.26) = %.5f'%(1-P(1.26)))\n",
        "print('P(Z<-0.86) = %.5f'%P(-0.86))\n",
        "print('P(Z>-1.37) = %.5f'%(1-P(-1.37)))\n",
        "print('P(−1.25 < Z < 0.37) = %.5f'%P(0.37,b=-1.25))\n",
        "print('P(Z ≤ −4.6) = %.5f'%P(-4.6))"
      ],
      "execution_count": 189,
      "outputs": [
        {
          "output_type": "stream",
          "text": [
            "P(Z>1.26) = 0.10383\n",
            "P(Z<-0.86) = 0.19489\n",
            "P(Z>-1.37) = 0.91466\n",
            "P(−1.25 < Z < 0.37) = 0.53866\n",
            "P(Z ≤ −4.6) = 0.00000\n"
          ],
          "name": "stdout"
        }
      ]
    },
    {
      "cell_type": "code",
      "metadata": {
        "id": "sTwy0mgwC6lK",
        "colab_type": "code",
        "colab": {
          "base_uri": "https://localhost:8080/",
          "height": 52
        },
        "outputId": "39ab28f2-9b53-403c-a3c7-2fe907cba8e4"
      },
      "source": [
        "print('P(Z>z)=0.05 is %.2f'%(-1*norm.ppf(0.05)))\n",
        "print('𝑃(−𝑧 < 𝑍 < 𝑧) = 0.99 is %.2f'%(abs(norm.ppf(0.005))))"
      ],
      "execution_count": 190,
      "outputs": [
        {
          "output_type": "stream",
          "text": [
            "P(Z>z)=0.05 is 1.64\n",
            "𝑃(−𝑧 < 𝑍 < 𝑧) = 0.99 is 2.58\n"
          ],
          "name": "stdout"
        }
      ]
    },
    {
      "cell_type": "markdown",
      "metadata": {
        "id": "Rof7_e8T8hlD",
        "colab_type": "text"
      },
      "source": [
        "**11.The current flow in a copper wire follow a normal distribution with a mean of 10 𝑚A\n",
        "and a variance of 4 (𝑚𝐴)2.\n",
        "What is the probability that a current measurement will exceed 13 𝑚𝐴? What is the\n",
        "probability that a current measurement is between 9 and 11mA? Determine the\n",
        "current measurement which has a probability of 0.98**"
      ]
    },
    {
      "cell_type": "code",
      "metadata": {
        "id": "G-SHY3rO2B8D",
        "colab_type": "code",
        "colab": {
          "base_uri": "https://localhost:8080/",
          "height": 52
        },
        "outputId": "a39403aa-b1f4-440d-dd8e-39c57b6c1ca8"
      },
      "source": [
        "mean=10\n",
        "std=np.sqrt(4)\n",
        "\n",
        "def I(z,b=-np.inf) :\n",
        "  #gives P(Z<=x)\n",
        "  z=(z-mean)/std\n",
        "  return integrate.quad(norm.pdf,b,z)[0]\n",
        "\n",
        "print('Probability that current > 13mA = %.3f'%(1-I(13)))\n",
        "print('Probability that current between 9 and 11mA = %.3f'%I(11,b=9))"
      ],
      "execution_count": 191,
      "outputs": [
        {
          "output_type": "stream",
          "text": [
            "Probability that current > 13mA = 0.067\n",
            "Probability that current between 9 and 11mA = -0.309\n"
          ],
          "name": "stdout"
        }
      ]
    },
    {
      "cell_type": "code",
      "metadata": {
        "id": "aMFMJM4gFGJc",
        "colab_type": "code",
        "colab": {
          "base_uri": "https://localhost:8080/",
          "height": 34
        },
        "outputId": "39c39d27-3c27-4d90-a2b5-2893a2acff75"
      },
      "source": [
        "print('Current measurement which has probability of 0.98 = %.2f mA'%((norm.ppf(0.98)*std)+mean))"
      ],
      "execution_count": 192,
      "outputs": [
        {
          "output_type": "stream",
          "text": [
            "Current measurement which has probability of 0.98 = 14.11 mA\n"
          ],
          "name": "stdout"
        }
      ]
    },
    {
      "cell_type": "markdown",
      "metadata": {
        "id": "dvtRTAL2GJA9",
        "colab_type": "text"
      },
      "source": [
        "**12.The shaft in a piston has its diameter normally distributed with a mean of 0.2508 inch\n",
        "and a standard deviation of 0.0005 inch. The specifications of the shaft are 0.2500 ∓\n",
        "0.0015 inch. What proportion of shafts are in sync with the specifications? If the\n",
        "process is centered so that the mean is equal to the target value of 0.2500, what\n",
        "proportion of shafts conform to the new specifications? What is your conclusion from\n",
        "this experiment?**"
      ]
    },
    {
      "cell_type": "code",
      "metadata": {
        "id": "XYNUz7HmGWrl",
        "colab_type": "code",
        "colab": {
          "base_uri": "https://localhost:8080/",
          "height": 52
        },
        "outputId": "94f6f448-286e-4c12-cd0f-b2f5c34e10bf"
      },
      "source": [
        "mean_dia=0.2508\n",
        "std_dia=0.0005\n",
        "#specified dia in the range of 0.2485<d<0.2515\n",
        "#case-1 if mean_dia=0.2508\n",
        "def I(mean,std,a,b) :\n",
        "  #gives P(Z<=x)\n",
        "  a=(a-mean)/std\n",
        "  b=(b-mean)/std\n",
        "  return integrate.quad(norm.pdf,a,b)[0]\n",
        "print('Proportion of shafts with dia in range of 0.2485<d<0.2515 when mean diameter=%f is %f'%(0.2508,I(0.2508,0.0005,0.2485,0.2515)))\n",
        "print('Proportion of shafts with dia in range of 0.2485<d<0.2515 when mean diameter=%f is %f'%(0.2500,I(0.2500,0.0005,0.2485,0.2515)))"
      ],
      "execution_count": 193,
      "outputs": [
        {
          "output_type": "stream",
          "text": [
            "Proportion of shafts with dia in range of 0.2485<d<0.2515 when mean diameter=0.250800 is 0.919241\n",
            "Proportion of shafts with dia in range of 0.2485<d<0.2515 when mean diameter=0.250000 is 0.997300\n"
          ],
          "name": "stdout"
        }
      ]
    },
    {
      "cell_type": "markdown",
      "metadata": {
        "id": "ug2mRJO8JYFx",
        "colab_type": "text"
      },
      "source": [
        "Within the range of 0.2485<d<0.2515\n",
        "A manufacturing process with mean of 0.25 gives maximum proportion of required shafts, there by reducing amount of scrap and reprocessing time.\n",
        "\n",
        "When compared to any other manufacturing process whose mean deviates from that of 0.25 less proportion of required shafts are obtained. The more the manufucaturing process deviaties from 0.25, lesser will be the proportion of reqired safts obtained.\n",
        "\n",
        "Mathematically, in a given range 0.2485<d<0.2515 , if there are two noraml distributrions (manufacturing processes) with same standard deviation,more area will be covered by the distribution whose mean is closer to mean of the interval i.e 0.25"
      ]
    }
  ]
}