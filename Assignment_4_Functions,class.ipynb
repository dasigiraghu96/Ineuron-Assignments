{
  "nbformat": 4,
  "nbformat_minor": 0,
  "metadata": {
    "colab": {
      "name": "Assignment_4_Functions,class.ipynb",
      "provenance": [],
      "collapsed_sections": [],
      "authorship_tag": "ABX9TyM4wDNAw1TaSLBUww7wWLqK",
      "include_colab_link": true
    },
    "kernelspec": {
      "name": "python3",
      "display_name": "Python 3"
    }
  },
  "cells": [
    {
      "cell_type": "markdown",
      "metadata": {
        "id": "view-in-github",
        "colab_type": "text"
      },
      "source": [
        "<a href=\"https://colab.research.google.com/github/dasigiraghu96/Ineuron-Assignments/blob/master/Assignment_4_Functions%2Cclass.ipynb\" target=\"_parent\"><img src=\"https://colab.research.google.com/assets/colab-badge.svg\" alt=\"Open In Colab\"/></a>"
      ]
    },
    {
      "cell_type": "markdown",
      "metadata": {
        "id": "-FLjPs2sK6Ix",
        "colab_type": "text"
      },
      "source": [
        "**1.1 Write a Python Program(with class concepts) to find the area of the triangle using the below\n",
        "formula.\n",
        "area = (s*(s-a)*(s-b)*(s-c)) ** 0.5\n",
        "Function to take the length of the sides of triangle from user should be defined in the parent\n",
        "class and function to calculate the area should be defined in subclass.**"
      ]
    },
    {
      "cell_type": "code",
      "metadata": {
        "id": "bBA3Xl-iGX6f",
        "colab_type": "code",
        "outputId": "4e6f78e2-55c5-4497-ddd7-40f9ab74d786",
        "colab": {
          "base_uri": "https://localhost:8080/",
          "height": 34
        }
      },
      "source": [
        "class Sides:\n",
        "  def __init__(self,a,b,c):\n",
        "    self.side1=a\n",
        "    self.side2=b\n",
        "    self.side3=c\n",
        "class Area(Sides):\n",
        "  def __init__(self,*args):\n",
        "    super().__init__(*args)\n",
        "  def traingle_area(self):\n",
        "    s=(self.side1+self.side2+self.side3)*0.5\n",
        "    return (s*(s-self.side1)*(s-self.side2)*(s-self.side3))**0.5\n",
        "\n",
        "Triangle1=Area(3,4,5)\n",
        "Triangle1.traingle_area()"
      ],
      "execution_count": 0,
      "outputs": [
        {
          "output_type": "execute_result",
          "data": {
            "text/plain": [
              "6.0"
            ]
          },
          "metadata": {
            "tags": []
          },
          "execution_count": 27
        }
      ]
    },
    {
      "cell_type": "markdown",
      "metadata": {
        "id": "d8zSEVEkga7z",
        "colab_type": "text"
      },
      "source": [
        "**1.2 Write a function filter_long_words() that takes a list of words and an integer n and returns\n",
        "the list of words that are longer than n**"
      ]
    },
    {
      "cell_type": "code",
      "metadata": {
        "id": "HUJ_nB9EgBm6",
        "colab_type": "code",
        "outputId": "4ea90aaa-aa5c-485c-a7ee-6debfb6f65c3",
        "colab": {
          "base_uri": "https://localhost:8080/",
          "height": 34
        }
      },
      "source": [
        "def filter_long_words(words,n):\n",
        "  return [i for i in words if len(i)>n]\n",
        "\n",
        "\n",
        "mylist=['hat','bat','is','it','hot']\n",
        "filter_long_words(mylist,2)"
      ],
      "execution_count": 0,
      "outputs": [
        {
          "output_type": "execute_result",
          "data": {
            "text/plain": [
              "['hat', 'bat', 'hot']"
            ]
          },
          "metadata": {
            "tags": []
          },
          "execution_count": 2
        }
      ]
    },
    {
      "cell_type": "markdown",
      "metadata": {
        "id": "HTUTgZMIiAiU",
        "colab_type": "text"
      },
      "source": [
        "**2.1 Write a Python program using function concept that maps list of words into a list of integers\n",
        "representing the lengths of the corresponding words.**"
      ]
    },
    {
      "cell_type": "code",
      "metadata": {
        "id": "-aHv8QeShUCn",
        "colab_type": "code",
        "outputId": "237a0512-8233-4b43-ff45-d1d8c29d3a51",
        "colab": {
          "base_uri": "https://localhost:8080/",
          "height": 34
        }
      },
      "source": [
        "def list_of_lengths(words):\n",
        "  return list(zip(words,[len(i) for i in words]))\n",
        "mylist=['hat','bat','is','it','hot']\n",
        "print(list_of_lengths(mylist))"
      ],
      "execution_count": 0,
      "outputs": [
        {
          "output_type": "stream",
          "text": [
            "[('hat', 3), ('bat', 3), ('is', 2), ('it', 2), ('hot', 3)]\n"
          ],
          "name": "stdout"
        }
      ]
    },
    {
      "cell_type": "markdown",
      "metadata": {
        "id": "8MJhT-raikwZ",
        "colab_type": "text"
      },
      "source": [
        "**2.2 Write a Python function which takes a character (i.e. a string of length 1) and returns True if\n",
        "it is a vowel, False otherwise.**"
      ]
    },
    {
      "cell_type": "code",
      "metadata": {
        "id": "gxMIGEdwiYfH",
        "colab_type": "code",
        "outputId": "c1c51638-42e7-4724-a393-808dab9f1e2b",
        "colab": {
          "base_uri": "https://localhost:8080/",
          "height": 140
        }
      },
      "source": [
        "def vowel_filter(a):\n",
        "  if len(a)==1:\n",
        "   if a not in 'aeiou':\n",
        "     k=False\n",
        "   elif a in 'aeiou':\n",
        "     k=True\n",
        "   return(k)\n",
        "  else:\n",
        "    print('Input value should be single letter')\n",
        "\n",
        "print(vowel_filter(input('Enter a character:')))\n",
        "print(vowel_filter(input('Enter a character:')))\n",
        "print(vowel_filter(input('Enter a character:')))"
      ],
      "execution_count": 0,
      "outputs": [
        {
          "output_type": "stream",
          "text": [
            "Enter a character:d\n",
            "False\n",
            "Enter a character:e\n",
            "True\n",
            "Enter a character:hello\n",
            "Input value should be single letter\n",
            "None\n"
          ],
          "name": "stdout"
        }
      ]
    }
  ]
}