{
 "cells": [
  {
   "cell_type": "markdown",
   "metadata": {},
   "source": [
    "**Write a function so that the columns of the output matrix are powers of the input\n",
    "vector.\n",
    "The order of the powers is determined by the increasing boolean argument. Specifically, when\n",
    "increasing is False, the i-th output column is the input vector raised element-wise to the power\n",
    "of N - i - 1.**\n",
    "\n",
    "**HINT: Such a matrix with a geometric progression in each row is named for Alexandre-\n",
    "Theophile Vandermonde.**"
   ]
  },
  {
   "cell_type": "code",
   "execution_count": 139,
   "metadata": {},
   "outputs": [],
   "source": [
    "import numpy as np\n",
    "def alexmatrix(lst,increasing=True,N=None):\n",
    "    if N==None:\n",
    "        N=len(lst)\n",
    "    if increasing==False:\n",
    "        mat1=[]\n",
    "        for i in range(N):\n",
    "            mat1.append([j**(N-i-1) for j in lst])\n",
    "        return np.asarray(mat1).T\n",
    "    elif increasing==True:\n",
    "        mat1=[]\n",
    "        for i in range(N):\n",
    "            mat1.append([j**i for j in lst])\n",
    "        return np.asarray(mat1).T"
   ]
  },
  {
   "cell_type": "code",
   "execution_count": 140,
   "metadata": {},
   "outputs": [
    {
     "data": {
      "text/plain": [
       "array([[ 1,  1,  1,  1,  1],\n",
       "       [16,  8,  4,  2,  1],\n",
       "       [81, 27,  9,  3,  1]])"
      ]
     },
     "execution_count": 140,
     "metadata": {},
     "output_type": "execute_result"
    }
   ],
   "source": [
    "alexmatrix([1,2,3],increasing=False,N=5)\n"
   ]
  },
  {
   "cell_type": "code",
   "execution_count": 141,
   "metadata": {},
   "outputs": [
    {
     "data": {
      "text/plain": [
       "array([[ 1,  1,  1,  1,  1],\n",
       "       [ 1,  2,  4,  8, 16],\n",
       "       [ 1,  3,  9, 27, 81]])"
      ]
     },
     "execution_count": 141,
     "metadata": {},
     "output_type": "execute_result"
    }
   ],
   "source": [
    "alexmatrix([1,2,3],increasing=True,N=5)"
   ]
  },
  {
   "cell_type": "code",
   "execution_count": 142,
   "metadata": {
    "scrolled": true
   },
   "outputs": [
    {
     "data": {
      "text/plain": [
       "array([[    1,     1,     1,     1,     1,     1],\n",
       "       [   32,    16,     8,     4,     2,     1],\n",
       "       [  243,    81,    27,     9,     3,     1],\n",
       "       [ 7776,  1296,   216,    36,     6,     1],\n",
       "       [16807,  2401,   343,    49,     7,     1],\n",
       "       [32768,  4096,   512,    64,     8,     1]])"
      ]
     },
     "execution_count": 142,
     "metadata": {},
     "output_type": "execute_result"
    }
   ],
   "source": [
    "alexmatrix([1,2,3,6,7,8],increasing=False)"
   ]
  },
  {
   "cell_type": "markdown",
   "metadata": {},
   "source": [
    "**Write a function to find moving average in an array over a window:\n",
    "Test it over [3, 5, 7, 2, 8, 10, 11, 65, 72, 81, 99, 100, 150] and window of 3.**"
   ]
  },
  {
   "cell_type": "code",
   "execution_count": 143,
   "metadata": {},
   "outputs": [],
   "source": [
    "def moving_avg(lst,k):\n",
    "    #lst=np.asarray(lst)\n",
    "    if k>0:\n",
    "        m_avg=[]\n",
    "        for i in range(len(lst)-k+1):\n",
    "            avg=sum(lst[i:i+k])/k\n",
    "            m_avg.append(round(avg,1))\n",
    "        print(\"Moving average for a window of {} is {}\".format(k,m_avg))\n",
    "    else:\n",
    "        print('Value of the window should be greater than 0 ')"
   ]
  },
  {
   "cell_type": "code",
   "execution_count": 144,
   "metadata": {},
   "outputs": [
    {
     "name": "stdout",
     "output_type": "stream",
     "text": [
      "Moving average for a window of 3 is [5.0, 4.7, 5.7, 6.7, 9.7, 28.7, 49.3, 72.7, 84.0, 93.3, 116.3]\n"
     ]
    }
   ],
   "source": [
    "lst=[3, 5, 7, 2, 8, 10, 11, 65, 72, 81, 99, 100, 150]\n",
    "k=3\n",
    "moving_avg(lst,k)"
   ]
  }
 ],
 "metadata": {
  "kernelspec": {
   "display_name": "Python 3",
   "language": "python",
   "name": "python3"
  },
  "language_info": {
   "codemirror_mode": {
    "name": "ipython",
    "version": 3
   },
   "file_extension": ".py",
   "mimetype": "text/x-python",
   "name": "python",
   "nbconvert_exporter": "python",
   "pygments_lexer": "ipython3",
   "version": "3.7.6"
  }
 },
 "nbformat": 4,
 "nbformat_minor": 4
}
