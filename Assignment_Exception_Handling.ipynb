{
  "nbformat": 4,
  "nbformat_minor": 0,
  "metadata": {
    "colab": {
      "name": "Assignment_Exception_Handling.ipynb",
      "provenance": [],
      "collapsed_sections": [],
      "authorship_tag": "ABX9TyPyfBZlRPF6ybWiLn7AAWjg",
      "include_colab_link": true
    },
    "kernelspec": {
      "name": "python3",
      "display_name": "Python 3"
    }
  },
  "cells": [
    {
      "cell_type": "markdown",
      "metadata": {
        "id": "view-in-github",
        "colab_type": "text"
      },
      "source": [
        "<a href=\"https://colab.research.google.com/github/dasigiraghu96/Ineuron-Assignments/blob/master/Assignment_Exception_Handling.ipynb\" target=\"_parent\"><img src=\"https://colab.research.google.com/assets/colab-badge.svg\" alt=\"Open In Colab\"/></a>"
      ]
    },
    {
      "cell_type": "markdown",
      "metadata": {
        "id": "K8QAuux8SNq0",
        "colab_type": "text"
      },
      "source": [
        "**1.Write a function to compute 5/0 and use try/except to catch the exceptions.**"
      ]
    },
    {
      "cell_type": "code",
      "metadata": {
        "id": "dDCvt8qRSTNE",
        "colab_type": "code",
        "colab": {}
      },
      "source": [
        "def div():\n",
        "  while True:\n",
        "    try:\n",
        "      a=int(input('Enter a number a: '))\n",
        "      b=int(input(\"Enter another number b:\"))\n",
        "      print('Division is :',a/b)\n",
        "    except ZeroDivisionError:\n",
        "      print('b value cannot be zero,please try again')\n",
        "      continue\n",
        "    except:\n",
        "      print('Something is not correct,Please try again')\n",
        "      continue\n",
        "    else:\n",
        "      break\n",
        "    finally:\n",
        "      print('Order of division is a/b')"
      ],
      "execution_count": 0,
      "outputs": []
    },
    {
      "cell_type": "code",
      "metadata": {
        "id": "rVThpOaAUEMH",
        "colab_type": "code",
        "colab": {
          "base_uri": "https://localhost:8080/",
          "height": 281
        },
        "outputId": "e71e130e-d1fa-4e14-dfe3-0c304e38f3c8"
      },
      "source": [
        "div()"
      ],
      "execution_count": 5,
      "outputs": [
        {
          "output_type": "stream",
          "text": [
            "Enter a number a: 4\n",
            "Enter another number b:0\n",
            "b value cannot be zero please try again\n",
            "Order of division is a/b\n",
            "Enter a number a: egqerg\n",
            "Something is not correct,Please try again\n",
            "Order of division is a/b\n",
            "Enter a number a: 5\n",
            "Enter another number b:qgqrgqwrg\n",
            "Something is not correct,Please try again\n",
            "Order of division is a/b\n",
            "Enter a number a: 4\n",
            "Enter another number b:9\n",
            "Division is : 0.4444444444444444\n",
            "Order of division is a/b\n"
          ],
          "name": "stdout"
        }
      ]
    },
    {
      "cell_type": "markdown",
      "metadata": {
        "id": "aU2qvV9sVSnL",
        "colab_type": "text"
      },
      "source": [
        "**2. Implement a Python program to generate all sentences where subject is in\n",
        "[\"Americans\", \"Indians\"] and verb is in [\"Play\", \"watch\"] and the object is in\n",
        "[\"Baseball\",\"cricket\"].\n",
        "Hint: Subject,Verb and Object should be declared in the program as shown below.\n",
        "subjects=[\"Americans \",\"Indians\"]\n",
        "verbs=[\"play\",\"watch\"]\n",
        "objects=[\"Baseball\",\"Cricket\"]\n",
        "Output should come as below:\n",
        "Americans play Baseball.\n",
        "Americans play Cricket.\n",
        "Americans watch Baseball.\n",
        "Americans watch Cricket.\n",
        "Indians play Baseball.\n",
        "Indians play Cricket.\n",
        "Indians watch Baseball.\n",
        "Indians watch Cricket.**"
      ]
    },
    {
      "cell_type": "code",
      "metadata": {
        "id": "8Vvs0AyKVEzg",
        "colab_type": "code",
        "colab": {
          "base_uri": "https://localhost:8080/",
          "height": 158
        },
        "outputId": "5dbc4673-fd2d-4c54-e17d-a6ba8fa07ff2"
      },
      "source": [
        "subjects=[\"Americans\",\"Indians\"]\n",
        "verbs=[\"play\",\"watch\"]\n",
        "objects=[\"Baseball\",\"Cricket\"]\n",
        "for i in subjects:\n",
        "  for j in verbs:\n",
        "    for k in objects:\n",
        "      print(i+' '+j+' '+k+'.')"
      ],
      "execution_count": 8,
      "outputs": [
        {
          "output_type": "stream",
          "text": [
            "Americans play Baseball.\n",
            "Americans play Cricket.\n",
            "Americans watch Baseball.\n",
            "Americans watch Cricket.\n",
            "Indians play Baseball.\n",
            "Indians play Cricket.\n",
            "Indians watch Baseball.\n",
            "Indians watch Cricket.\n"
          ],
          "name": "stdout"
        }
      ]
    }
  ]
}